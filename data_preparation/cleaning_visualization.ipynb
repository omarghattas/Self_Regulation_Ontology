{
 "cells": [
  {
   "cell_type": "code",
   "execution_count": null,
   "metadata": {},
   "outputs": [],
   "source": [
    "import numpy as np\n",
    "import pandas as pd\n",
    "import matplotlib.pyplot as plt\n",
    "import seaborn as sns\n",
    "from selfregulation.utils.utils import get_behav_data\n",
    "from selfregulation.utils.plot_utils import format_num\n",
    "from statsmodels.stats.stattools import medcouple"
   ]
  },
  {
   "cell_type": "code",
   "execution_count": null,
   "metadata": {},
   "outputs": [],
   "source": [
    "data = get_behav_data()\n",
    "clean = get_behav_data(file = 'meaningful_variables_clean.csv')\n",
    "imputed = get_behav_data(file = 'meaningful_variables_imputed.csv')"
   ]
  },
  {
   "cell_type": "code",
   "execution_count": null,
   "metadata": {},
   "outputs": [],
   "source": [
    "old_cols = set(data.columns) - set(clean.columns)\n",
    "clean_cols = set(clean.columns) - set(data.columns)\n",
    "\n",
    "\n",
    "before_transform = data.loc[:, old_cols]\n",
    "before_transform = before_transform.melt()\n",
    "before_transform['stage'] = 'null'\n",
    "\n",
    "\n",
    "clean = clean.loc[:, clean_cols]\n",
    "clean.columns = ['.'.join(i.split('.')[:-1]) for i in clean.columns]\n",
    "clean = clean.melt()\n",
    "clean['stage'] = 'clean'\n",
    "\n",
    "\n",
    "final = pd.concat([before_transform, clean])\n",
    "# remove missing values\n",
    "final = final.replace([np.inf, -np.inf], np.nan)\n",
    "final.dropna(inplace=True)"
   ]
  },
  {
   "cell_type": "code",
   "execution_count": null,
   "metadata": {},
   "outputs": [],
   "source": [
    "# look at transformed and dropped data\n",
    "%matplotlib inline\n",
    "f, axes = plt.subplots(len(old_cols), 2, figsize=(10, len(old_cols)*5))\n",
    "for row, name in enumerate(sorted(final.variable.unique())):\n",
    "    for col, stage in enumerate(['null','clean']):\n",
    "        subset = final.query('variable == \"%s\" and stage == \"%s\"' % (name, stage))\n",
    "        if len(subset) > 0:\n",
    "            axes[row][col].hist(subset['value'], bins=20)\n",
    "            axes[row][0].set_ylabel(('\\n').join(name.split('.')), fontsize=20)\n",
    "            axes[row][col].set_title(str(stage))\n",
    "            axes[row][col].text(.75,.6,format_num(subset.value.skew()),\n",
    "                                fontsize=20,\n",
    "                                color='black',\n",
    "                               transform = axes[row][col].transAxes)\n",
    "            axes[row][col].text(.75,.8,format_num(float(medcouple(subset.value))),\n",
    "                                fontsize=20,\n",
    "                                color='red',\n",
    "                               transform = axes[row][col].transAxes)"
   ]
  },
  {
   "cell_type": "code",
   "execution_count": null,
   "metadata": {},
   "outputs": [],
   "source": [
    "# look clean and imputed data\n",
    "clean = get_behav_data(file = 'meaningful_variables_clean.csv')\n",
    "imputed = get_behav_data(file = 'meaningful_variables_imputed.csv')\n",
    "\n",
    "clean_melted=clean.melt().assign(stage='clean')\n",
    "impute_melted=imputed.melt().assign(stage='imputed')\n",
    "final = pd.concat([clean_melted, impute_melted])\n",
    "# remove missing values\n",
    "final = final.replace([np.inf, -np.inf], np.nan)\n",
    "final.dropna(inplace=True)"
   ]
  },
  {
   "cell_type": "code",
   "execution_count": null,
   "metadata": {},
   "outputs": [],
   "source": [
    "%matplotlib inline\n",
    "n_rows=clean.shape[1]\n",
    "f, axes = plt.subplots(n_rows, 2, figsize=(7, n_rows*3))\n",
    "for row, name in enumerate(sorted(final.variable.unique())):\n",
    "    for col, stage in enumerate(['clean','imputed']):\n",
    "        subset = final.query('variable == \"%s\" and stage == \"%s\"' % (name, stage))\n",
    "        if len(subset) > 0:\n",
    "            axes[row][col].hist(subset['value'], bins=20)\n",
    "            axes[row][0].set_ylabel(('\\n').join(name.split('.')), fontsize=15,\n",
    "                                   rotation=0, labelpad=100)\n",
    "            axes[row][col].set_title(str(stage))\n",
    "            axes[row][col].text(.75,.6,format_num(subset.value.skew()),\n",
    "                                fontsize=15,\n",
    "                                color='black',\n",
    "                               transform = axes[row][col].transAxes)\n",
    "            axes[row][col].text(.75,.8,format_num(float(medcouple(subset.value))),\n",
    "                                fontsize=15,\n",
    "                                color='red',\n",
    "                               transform = axes[row][col].transAxes)"
   ]
  },
  {
   "cell_type": "code",
   "execution_count": null,
   "metadata": {},
   "outputs": [],
   "source": []
  }
 ],
 "metadata": {
  "kernelspec": {
   "display_name": "Python 3",
   "language": "python",
   "name": "python3"
  },
  "language_info": {
   "codemirror_mode": {
    "name": "ipython",
    "version": 3
   },
   "file_extension": ".py",
   "mimetype": "text/x-python",
   "name": "python",
   "nbconvert_exporter": "python",
   "pygments_lexer": "ipython3",
   "version": "3.5.3"
  }
 },
 "nbformat": 4,
 "nbformat_minor": 2
}
