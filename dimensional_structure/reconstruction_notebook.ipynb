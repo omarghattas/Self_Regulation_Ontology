{
 "cells": [
  {
   "cell_type": "markdown",
   "metadata": {},
   "source": [
    "# Reconstructing out-of-sample DVs\n",
    "\n",
    "Given a quantitative ontology, or psychological space, that DVs can be projected into, how can we deterine the embedding of new variables?\n",
    "\n",
    "Currently, our embedding is determined by factor analysis. Thus ontological embedding are only known for the DVs entered into the original model. How could we extend this?\n",
    "\n",
    "One possibility is measuring new variables in the same population that completed our original battery. After doing this we could either (1) run the model anew, or (2) use linear regression to map the already discovered factors onto the new variables. The former is better, but results in small changes to the actual factors with each new variable. The latter method ensures that our factors stay the same. Neither is scalable, however, as we do not, in general, have access to a constant population that can be remeasured whenever new measures come into the picture.\n",
    "\n",
    "Another possibility that works with new populations requires that the new population completes the entire battery used to estimate the original factors, in addition to whatever new variables are of interest. Doing so allows the calculation of factor scores for this new population based on the original model, which can then be mapped to the new measures of interest. This allows researchers to capitalize on the original model (presumably fit on more subjects than the new study), while expanding the ontology. Problems exist here, however.\n",
    "- The most obvious problem is that you have to measure the new sample on the entire battery used to fit the original EFA model. Given that this takes many hours (the exact number depending on whether tasks, surveys or both are used), this is exceedingly impractical. In our cas we did have our new fMRI sample take the entire battery (or at least a subset of participants), so this problem isn't as relevant\n",
    "- Still problems remain. If N is small, the estimate of the ontological embedding for new DVs is likely unstable.\n",
    "\n",
    "This latter problem necessitates some quantitative exploration. This notebook simulates the issue by:\n",
    "1. Removing a DV from the original ontology dataset\n",
    "2. Performing EFA on this subset\n",
    "3. Using linear regression to map these EFA factors to the left out variable\n",
    "\n",
    "(3) is performed on smaller population sizes to reflect the reality of most studies (including ours) and is repeated to get a sense of the mapping's variability\n",
    "\n",
    "### Small issues not currently addressed\n",
    "\n",
    "- The EFA model is fit on the entire population. An even more stringent simulation would subset the subjects used in the \"new study\" and fit the EFA model on a completely independent group. I tried this once - the factor scores hardly differed. In addition, I want the EFA model to be as well-powered as possible, as that will be the reality for this method moving forward\n",
    "- I am currently not holding out entire tasks, but only specific DVs"
   ]
  },
  {
   "cell_type": "code",
   "execution_count": null,
   "metadata": {},
   "outputs": [],
   "source": [
    "import argparse\n",
    "import numpy as np\n",
    "from os import makedirs, path\n",
    "import pandas as pd\n",
    "import pickle\n",
    "from sklearn.linear_model import LinearRegression, Ridge\n",
    "\n",
    "from dimensional_structure.reconstruction_utils import get_reconstruction_results, k_nearest_ontology_reconstruction\n",
    "from selfregulation.utils.result_utils import load_results\n",
    "from selfregulation.utils.utils import get_recent_dataset, get_info"
   ]
  },
  {
   "cell_type": "code",
   "execution_count": null,
   "metadata": {},
   "outputs": [],
   "source": [
    "# argparse\n",
    "if __name__ == '__main__':\n",
    "    parser = argparse.ArgumentParser()\n",
    "    parser.add_argument('-pop_sizes', nargs='+', default=[50, 100, 400], type=int)\n",
    "    parser.add_argument('-n_reps', default=500)\n",
    "    parser.add_argument('-n_vars', default=None, type=int)\n",
    "    parser.add_argument('-dataset', default=None)\n",
    "    args, _ = parser.parse_known_args()\n",
    "    pop_sizes = args.pop_sizes\n",
    "    n_reps = args.n_reps\n",
    "    n_vars = args.n_vars\n",
    "    if args.dataset is not None:\n",
    "        dataset = args.dataset\n",
    "    else:\n",
    "        dataset = get_recent_dataset()"
   ]
  },
  {
   "cell_type": "code",
   "execution_count": null,
   "metadata": {},
   "outputs": [],
   "source": [
    "# additional setup\n",
    "np.random.seed(12412)\n",
    "results = load_results(dataset)['task']\n",
    "c = results.EFA.results['num_factors']\n",
    "\n",
    "classifiers = {'Ridge': Ridge(fit_intercept=False),\n",
    "               'LR': LinearRegression(fit_intercept=False)}\n",
    "# get output dir to store results\n",
    "output_dir = path.join(get_info('results_directory'),\n",
    "                       'ontology_reconstruction', results.ID)\n",
    "makedirs(output_dir, exist_ok=True)"
   ]
  },
  {
   "cell_type": "code",
   "execution_count": null,
   "metadata": {},
   "outputs": [],
   "source": [
    "# get a random subset of variables to perform the calculation on if n_vars is set\n",
    "if n_vars is not None:\n",
    "    var_list = np.random.choice(results.data.columns, n_vars, replace=False)\n",
    "else:\n",
    "    var_list = results.data.columns"
   ]
  },
  {
   "cell_type": "markdown",
   "metadata": {},
   "source": [
    "Run simulation for every variable at different population sizes. \n",
    "\n",
    "That is, do the following:\n",
    "\n",
    "1. take a variable (say stroop incongruent-congruent RT), remove it from the data matrix\n",
    "2. Run EFA on the data matrix composes of the 522 (subject) x N-1 (variable) data matrix\n",
    "3. Calculate factor scores for all 522 subjects\n",
    "4. Select a subset of \"pop_size\" to do an \"ontological mapping\". That is, pretend that these subjects did the whole battery (missing the one variable) *and then* completed one more task. The idea is we want to do a mapping from those subject's factor scores to the new variable\n",
    "   1. We can do a linear mapping (regression) from the ontological scores to the output variable\n",
    "   2. We can do a k-nearest neighbor interpolation, where we say the unknown ontological factor is a blend of the \"nearest\" variables in the dataset\n",
    "5. Repeat (4) a number of times to get a sense for the accuracy and variability of that mapping\n",
    "6. Compare the estimated ontological scores for the held out var (stroop incongruent-congruent) to the original \"correct\" ontological mapping (that would have been obtained if the variable was included in the original data matrix"
   ]
  },
  {
   "cell_type": "code",
   "execution_count": null,
   "metadata": {},
   "outputs": [],
   "source": [
    "k_reconstruction=get_reconstruction_results(results, var_list, pop_sizes, n_reps=n_reps, \n",
    "                                               fun=k_nearest_ontology_reconstruction, k_list=range(1,7))\n",
    "filename = path.join(output_dir, 'kreconstruct.pkl')\n",
    "k_reconstruction.to_pickle(filename)"
   ]
  },
  {
   "cell_type": "code",
   "execution_count": null,
   "metadata": {},
   "outputs": [],
   "source": [
    "# summarize further\n",
    "k_reconstruction.query('label==\"partial_reconstruct\"') \\\n",
    "                .groupby(['pop_size', 'k', 'weighted']).agg([np.mean, np.std])[['score-MSE', 'score-corr']]"
   ]
  },
  {
   "cell_type": "code",
   "execution_count": null,
   "metadata": {},
   "outputs": [],
   "source": [
    "linear_reconstructions = {}\n",
    "for name, clf in classifiers.items():\n",
    "    for robust in [True, False]:\n",
    "        out=get_reconstruction_results(results, var_list, pop_sizes, n_reps=n_reps, clf=clf, robust=robust)\n",
    "        filename = path.join(output_dir, 'linearreconstruct_clf-%s_robust-%s.pkl' % (name, str(robust)))\n",
    "        out.to_pickle(filename)\n",
    "        robust_str = '_robust' if robust else ''\n",
    "        linear_reconstructions['%s%s' % (name, robust_str)] = out"
   ]
  },
  {
   "cell_type": "code",
   "execution_count": null,
   "metadata": {},
   "outputs": [],
   "source": [
    "# summarize further\n",
    "for name, reconstruction_df in linear_reconstructions.items():\n",
    "    print(name)\n",
    "    print(reconstruction_df.query('label==\"partial_reconstruct\"') \\\n",
    "            .groupby(['pop_size']).agg([np.mean, np.std])[['score-MSE', 'score-corr']])\n",
    "    print('')"
   ]
  },
  {
   "cell_type": "markdown",
   "metadata": {},
   "source": [
    "## Visualization\n",
    "\n",
    "Of concern is the average correspondence and variability between the estimated ontological fingerprint of a DV and its \"ground-truth\" (the original estimate when it was part of the EFA model)\n",
    "\n",
    "One way to look at this is just the average reconstruction score (e.g., for example) and variability of reconstruction score as a function of pseudo-pop-size"
   ]
  },
  {
   "cell_type": "code",
   "execution_count": null,
   "metadata": {},
   "outputs": [],
   "source": [
    "# import matplotlib.pyplot as plt\n",
    "import matplotlib.pyplot as plt\n",
    "import seaborn as sns\n",
    "from sklearn.manifold import MDS, TSNE\n",
    "from scipy.spatial.distance import pdist, squareform\n"
   ]
  },
  {
   "cell_type": "code",
   "execution_count": null,
   "metadata": {},
   "outputs": [],
   "source": [
    "sns.set_context('talk')\n",
    "n_cols = 1\n",
    "n_rows = len(pop_sizes)//n_cols\n",
    "f, axes = plt.subplots(n_rows, n_cols, figsize=(n_rows*5,10))\n",
    "axes = f.get_axes()\n",
    "for ax, pop_size in zip(axes, pop_sizes):\n",
    "    sns.boxplot(x='k', y='score-corr', hue='weighted', \n",
    "                data=k_reconstruction.query('pop_size==%s' % pop_size),\n",
    "               ax=ax)\n",
    "    ax.set_title('Simulated Population Size: %s' % pop_size)\n",
    "    ax.set_ylim(0,1)\n",
    "plt.subplots_adjust(hspace=.4)\n"
   ]
  },
  {
   "cell_type": "code",
   "execution_count": null,
   "metadata": {},
   "outputs": [],
   "source": [
    "sns.set_context('talk')\n",
    "n_cols = 2\n",
    "n_rows = (len(linear_reconstructions)+1)//n_cols\n",
    "f, axes = plt.subplots(n_rows, n_cols, figsize=(10,10))\n",
    "axes = f.get_axes()\n",
    "for ax, (key, val) in zip(axes,linear_reconstructions.items()):\n",
    "    plot_df = val.query('label==\"partial_reconstruct\"') \\\n",
    "                .groupby(['pop_size','var']) \\\n",
    "                .agg([np.mean, np.std])[['score-corr']].reset_index()\n",
    "    plot_df.columns = [' '.join(col).strip() for col in plot_df.columns.values] # flatten hierarchical columns\n",
    "    sns.boxplot(x='pop_size', y='score-corr mean', data=plot_df, ax=ax)\n",
    "    sns.swarmplot(x='pop_size', y='score-corr mean', size=10, data=plot_df, ax=ax, edgecolors='black', linewidth=2)\n",
    "    ax.set_title(key)\n",
    "    ax.set_ylim(-.2, 1)\n",
    "plt.subplots_adjust(hspace=.4, wspace=.4)"
   ]
  },
  {
   "cell_type": "markdown",
   "metadata": {},
   "source": [
    "We see that with only 50 or 100 people the estimated ontological scores are pretty bad. With 400, they are pretty good, but still not perfect.\n",
    "\n",
    "We can dive in and look at one variable to see the spread around the \"true\" value:"
   ]
  },
  {
   "cell_type": "code",
   "execution_count": null,
   "metadata": {},
   "outputs": [],
   "source": [
    "reconstruction_df = k_reconstruction.query('k==3 and weighted==True')\n",
    "# make plot\n",
    "var = np.random.choice(var_list)\n",
    "plot_df = reconstruction_df.query('var == \"%s\"' % var)\n",
    "plt.figure(figsize=(12,8))\n",
    "sns.swarmplot(x='pop_size', y='score-corr', data=plot_df, size=7)\n",
    "plt.title(var)"
   ]
  },
  {
   "cell_type": "markdown",
   "metadata": {},
   "source": [
    "More complicate, we can visualize this by looking at the MDS plotting:\n",
    "1. The original DVs\n",
    "2. The \"best\" reconstruction using all the data\n",
    "3. The n_reps simulated estimates with a smaller population size"
   ]
  },
  {
   "cell_type": "code",
   "execution_count": null,
   "metadata": {},
   "outputs": [],
   "source": [
    "reconstruction_df.sort_values(by='label', inplace=True)"
   ]
  },
  {
   "cell_type": "code",
   "execution_count": null,
   "metadata": {},
   "outputs": [],
   "source": [
    "# MDS\n",
    "mds_reduced = []\n",
    "tsne_reduced = []\n",
    "for pop_size in pop_sizes:\n",
    "    mds = MDS(2, dissimilarity='precomputed')\n",
    "    tsne = TSNE(2, metric='precomputed')\n",
    "    subset = reconstruction_df.query('pop_size == %s'% pop_size)\n",
    "    reconstructions = subset.iloc[:, :c]\n",
    "    distances = squareform(pdist(reconstructions, metric='correlation'))\n",
    "    #mds_reduced.append(mds.fit_transform(distances)) # taking too long\n",
    "    tsne_reduced.append(tsne.fit_transform(1-reconstructions.T.corr()))"
   ]
  },
  {
   "cell_type": "code",
   "execution_count": null,
   "metadata": {},
   "outputs": [],
   "source": [
    "tmp_subset = reconstruction_df.query('pop_size == %s'% pop_sizes[-1])\n",
    "base_colors = sns.color_palette(n_colors=len(var_list))\n",
    "color_map = {var_list[i]:base_colors[i] for i in range(len(var_list))}\n",
    "color_list = list(tmp_subset.loc[:,'var'].apply(lambda x: color_map[x]))\n",
    "edge_colors = [color_list[i] if x=='partial_reconstruct' else [1,1,1] for i,x in enumerate(tmp_subset.label)]\n",
    "size_list = [30 if x=='partial_reconstruct' else 200 for x in tmp_subset.label]"
   ]
  },
  {
   "cell_type": "code",
   "execution_count": null,
   "metadata": {},
   "outputs": [],
   "source": [
    "N_pop = len(pop_sizes)\n",
    "f,axes = plt.subplots(N_pop,1,figsize=(8,8*N_pop))\n",
    "for ax, reduced, pop_size in zip(axes, tsne_reduced, pop_sizes):\n",
    "    ax.scatter(reduced[:,0], reduced[:,1], c=color_list, s=size_list, edgecolors=edge_colors, linewidth=2)\n",
    "    ax.set_title('Pseudo-Population Size: %s' % pop_size)"
   ]
  }
 ],
 "metadata": {
  "kernelspec": {
   "display_name": "Python 3",
   "language": "python",
   "name": "python3"
  },
  "language_info": {
   "codemirror_mode": {
    "name": "ipython",
    "version": 3
   },
   "file_extension": ".py",
   "mimetype": "text/x-python",
   "name": "python",
   "nbconvert_exporter": "python",
   "pygments_lexer": "ipython3",
   "version": "3.5.3"
  }
 },
 "nbformat": 4,
 "nbformat_minor": 2
}
